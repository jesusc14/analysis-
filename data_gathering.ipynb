{
 "cells": [
  {
   "cell_type": "code",
   "execution_count": 6,
   "metadata": {},
   "outputs": [],
   "source": [
    "import time\n",
    "import pandas as pd\n",
    "from google.protobuf.json_format import MessageToDict\n",
    "from urllib.request import urlopen\n",
    "import gtfs_realtime_pb2"
   ]
  },
  {
   "cell_type": "code",
   "execution_count": 7,
   "metadata": {},
   "outputs": [],
   "source": [
    "# Initialize the main DataFrame\n",
    "df = pd.DataFrame()\n",
    "\n",
    "# Initialize the DataFrame to store new trip information\n",
    "new_trips_df = pd.DataFrame()\n"
   ]
  },
  {
   "cell_type": "code",
   "execution_count": 8,
   "metadata": {},
   "outputs": [
    {
     "ename": "KeyboardInterrupt",
     "evalue": "",
     "output_type": "error",
     "traceback": [
      "\u001b[1;31m---------------------------------------------------------------------------\u001b[0m",
      "\u001b[1;31mKeyboardInterrupt\u001b[0m                         Traceback (most recent call last)",
      "Cell \u001b[1;32mIn[8], line 70\u001b[0m\n\u001b[0;32m     67\u001b[0m     delays_df \u001b[39m=\u001b[39m pd\u001b[39m.\u001b[39mDataFrame(columns\u001b[39m=\u001b[39m[\u001b[39m\"\u001b[39m\u001b[39mtrip_id\u001b[39m\u001b[39m\"\u001b[39m, \u001b[39m\"\u001b[39m\u001b[39mstop_sequence\u001b[39m\u001b[39m\"\u001b[39m, \u001b[39m\"\u001b[39m\u001b[39marrival_delay\u001b[39m\u001b[39m\"\u001b[39m])\n\u001b[0;32m     69\u001b[0m \u001b[39m# Wait for 30 seconds before refreshing the data\u001b[39;00m\n\u001b[1;32m---> 70\u001b[0m time\u001b[39m.\u001b[39msleep(\u001b[39m30\u001b[39m)\n\u001b[0;32m     72\u001b[0m \u001b[39m# Save any remaining delay data to the CSV file before exiting\u001b[39;00m\n\u001b[0;32m     73\u001b[0m \u001b[39mif\u001b[39;00m \u001b[39mnot\u001b[39;00m delays_df\u001b[39m.\u001b[39mempty:\n",
      "\u001b[1;31mKeyboardInterrupt\u001b[0m: "
     ]
    }
   ],
   "source": [
    "import csv\n",
    "\n",
    "MAX_ROWS = 1000  # Maximum number of rows to keep in the DataFrame\n",
    "\n",
    "# Create an empty DataFrame to store the delay data\n",
    "delays_df = pd.DataFrame(columns=[\"trip_id\", \"stop_sequence\", \"arrival_delay\"])\n",
    "\n",
    "# Create an empty dictionary to store delays\n",
    "delays = {}\n",
    "\n",
    "while True:\n",
    "    # Retrieve the data\n",
    "    feed = gtfs_realtime_pb2.FeedMessage()\n",
    "    response = urlopen(\n",
    "        \"https://s3.amazonaws.com/kcm-alerts-realtime-prod/tripupdates.pb\"\n",
    "    )\n",
    "    feed.ParseFromString(response.read())\n",
    "\n",
    "    # Convert protobuf feed to dictionary\n",
    "    buses_dict = MessageToDict(feed)\n",
    "\n",
    "    # Extract the relevant data and convert to DataFrame\n",
    "    new_data = pd.json_normalize(buses_dict[\"entity\"])\n",
    "\n",
    "    # Iterate through each row in the new_data DataFrame\n",
    "    for index, row in new_data.iterrows():\n",
    "        try:\n",
    "            trip_id = row[\"trip_update.trip.trip_id\"]\n",
    "            stop_time_updates = row[\"trip_update.stop_time_update\"]\n",
    "\n",
    "            # Iterate through each dictionary within the 'stop_time_updates' list\n",
    "            for update in stop_time_updates:\n",
    "                stop_sequence = update[\"stop_sequence\"]\n",
    "\n",
    "                # Check if the 'arrival' key exists in the dictionary\n",
    "                if \"arrival\" in update:\n",
    "                    arrival_delay = update[\"arrival\"][\"delay\"]\n",
    "                else:\n",
    "                    arrival_delay = None\n",
    "\n",
    "                # Check if the trip_id exists in the delays dictionary\n",
    "                if trip_id in delays:\n",
    "                    # Append the delay to the existing list\n",
    "                    delays[trip_id].append((stop_sequence, arrival_delay))\n",
    "                else:\n",
    "                    # Create a new list for the trip_id and add the delay\n",
    "                    delays[trip_id] = [(stop_sequence, arrival_delay)]\n",
    "\n",
    "                # Append the delay information to the delays_df DataFrame\n",
    "                delays_df = delays_df.append(\n",
    "                    {\n",
    "                        \"trip_id\": trip_id,\n",
    "                        \"stop_sequence\": stop_sequence,\n",
    "                        \"arrival_delay\": arrival_delay,\n",
    "                    },\n",
    "                    ignore_index=True,\n",
    "                )\n",
    "\n",
    "        except KeyError:\n",
    "            # Handle missing keys gracefully\n",
    "            continue\n",
    "\n",
    "    # Check if the DataFrame exceeds the maximum number of rows\n",
    "    if len(delays_df) > MAX_ROWS:\n",
    "        # Save the delay data to a CSV file\n",
    "        delays_df.to_csv(\"combined_data.csv\", mode=\"a\", header=False, index=False)\n",
    "\n",
    "        # Clear the delay DataFrame to free up memory\n",
    "        delays_df = pd.DataFrame(columns=[\"trip_id\", \"stop_sequence\", \"arrival_delay\"])\n",
    "\n",
    "    # Wait for 30 seconds before refreshing the data\n",
    "    time.sleep(30)\n",
    "\n",
    "# Save any remaining delay data to the CSV file before exiting\n",
    "if not delays_df.empty:\n",
    "    delays_df.to_csv(\"combined_data.csv\", mode=\"a\", header=False, index=False)"
   ]
  }
 ],
 "metadata": {
  "kernelspec": {
   "display_name": "Python 3",
   "language": "python",
   "name": "python3"
  },
  "language_info": {
   "codemirror_mode": {
    "name": "ipython",
    "version": 3
   },
   "file_extension": ".py",
   "mimetype": "text/x-python",
   "name": "python",
   "nbconvert_exporter": "python",
   "pygments_lexer": "ipython3",
   "version": "3.11.3"
  },
  "orig_nbformat": 4
 },
 "nbformat": 4,
 "nbformat_minor": 2
}
